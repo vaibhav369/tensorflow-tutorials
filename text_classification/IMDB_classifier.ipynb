{
 "cells": [
  {
   "cell_type": "code",
   "execution_count": 1,
   "metadata": {},
   "outputs": [],
   "source": [
    "import tensorflow as tf\n",
    "from tensorflow import keras\n",
    "\n",
    "import numpy as np\n",
    "\n",
    "import matplotlib.pyplot as plt\n",
    "%matplotlib inline"
   ]
  },
  {
   "cell_type": "code",
   "execution_count": 2,
   "metadata": {},
   "outputs": [
    {
     "name": "stdout",
     "output_type": "stream",
     "text": [
      "Downloading data from https://storage.googleapis.com/tensorflow/tf-keras-datasets/imdb.npz\n",
      "17465344/17464789 [==============================] - 4s 0us/step\n"
     ]
    }
   ],
   "source": [
    "imdb = keras.datasets.imdb\n",
    "(train_data, train_labels), (test_data, test_labels) = imdb.load_data(num_words=10000)"
   ]
  },
  {
   "cell_type": "code",
   "execution_count": 3,
   "metadata": {},
   "outputs": [
    {
     "name": "stdout",
     "output_type": "stream",
     "text": [
      "Training Data: 25000 labels: 25000\n"
     ]
    }
   ],
   "source": [
    "print('Training Data: {} labels: {}'.format(len(train_data), len(train_labels)))"
   ]
  },
  {
   "cell_type": "code",
   "execution_count": 4,
   "metadata": {},
   "outputs": [
    {
     "name": "stdout",
     "output_type": "stream",
     "text": [
      "Downloading data from https://storage.googleapis.com/tensorflow/tf-keras-datasets/imdb_word_index.json\n",
      "1646592/1641221 [==============================] - 2s 1us/step\n"
     ]
    }
   ],
   "source": [
    "word_index = imdb.get_word_index()\n",
    "word_index = {k: v+3 for k, v in word_index.items()}\n",
    "word_index[\"<PAD>\"] = 0\n",
    "word_index[\"<START>\"] = 1\n",
    "word_index[\"<UNK>\"] = 2  # unknown\n",
    "word_index[\"<UNUSED>\"] = 3"
   ]
  },
  {
   "cell_type": "code",
   "execution_count": 5,
   "metadata": {},
   "outputs": [],
   "source": [
    "reversed_word_index = {v:k for k, v in word_index.items()}"
   ]
  },
  {
   "cell_type": "code",
   "execution_count": 6,
   "metadata": {},
   "outputs": [],
   "source": [
    "def decode_review(text):\n",
    "    return ' '.join([reversed_word_index.get(i, '?') for i in text])"
   ]
  },
  {
   "cell_type": "code",
   "execution_count": 7,
   "metadata": {},
   "outputs": [
    {
     "data": {
      "text/plain": [
       "\"<START> this film was just brilliant casting location scenery story direction everyone's really suited the part they played and you could just imagine being there robert <UNK> is an amazing actor and now the same being director <UNK> father came from the same scottish island as myself so i loved the fact there was a real connection with this film the witty remarks throughout the film were great it was just brilliant so much that i bought the film as soon as it was released for <UNK> and would recommend it to everyone to watch and the fly fishing was amazing really cried at the end it was so sad and you know what they say if you cry at a film it must have been good and this definitely was also <UNK> to the two little boy's that played the <UNK> of norman and paul they were just brilliant children are often left out of the <UNK> list i think because the stars that play them all grown up are such a big profile for the whole film but these children are amazing and should be praised for what they have done don't you think the whole story was so lovely because it was true and was someone's life after all that was shared with us all\""
      ]
     },
     "execution_count": 7,
     "metadata": {},
     "output_type": "execute_result"
    }
   ],
   "source": [
    "decode_review(train_data[0])"
   ]
  },
  {
   "cell_type": "code",
   "execution_count": 8,
   "metadata": {},
   "outputs": [],
   "source": [
    "train_data = keras.preprocessing.sequence.pad_sequences(train_data,\n",
    "                                                        value=word_index['<PAD>'],\n",
    "                                                        padding='post',\n",
    "                                                        maxlen=256)\n",
    "test_data = keras.preprocessing.sequence.pad_sequences(test_data,\n",
    "                                                       value=word_index['<PAD>'],\n",
    "                                                       padding='post', \n",
    "                                                       maxlen=256)"
   ]
  },
  {
   "cell_type": "code",
   "execution_count": 9,
   "metadata": {},
   "outputs": [
    {
     "name": "stdout",
     "output_type": "stream",
     "text": [
      "WARNING:tensorflow:From /home/vaibhav/anaconda3/envs/spinningup/lib/python3.6/site-packages/tensorflow/python/ops/resource_variable_ops.py:435: colocate_with (from tensorflow.python.framework.ops) is deprecated and will be removed in a future version.\n",
      "Instructions for updating:\n",
      "Colocations handled automatically by placer.\n",
      "_________________________________________________________________\n",
      "Layer (type)                 Output Shape              Param #   \n",
      "=================================================================\n",
      "embedding (Embedding)        (None, None, 16)          160000    \n",
      "_________________________________________________________________\n",
      "global_average_pooling1d (Gl (None, 16)                0         \n",
      "_________________________________________________________________\n",
      "dense (Dense)                (None, 16)                272       \n",
      "_________________________________________________________________\n",
      "dense_1 (Dense)              (None, 1)                 17        \n",
      "=================================================================\n",
      "Total params: 160,289\n",
      "Trainable params: 160,289\n",
      "Non-trainable params: 0\n",
      "_________________________________________________________________\n"
     ]
    }
   ],
   "source": [
    "vocab_size = 10000\n",
    "\n",
    "model = keras.models.Sequential()\n",
    "model.add( keras.layers.Embedding(vocab_size, 16) )\n",
    "model.add( keras.layers.GlobalAveragePooling1D() )\n",
    "model.add( keras.layers.Dense(16, activation=tf.nn.relu) )\n",
    "model.add( keras.layers.Dense(1, activation=tf.nn.sigmoid) )\n",
    "\n",
    "model.summary()"
   ]
  },
  {
   "cell_type": "code",
   "execution_count": 10,
   "metadata": {},
   "outputs": [],
   "source": [
    "model.compile(optimizer='adam',\n",
    "              loss='binary_crossentropy',\n",
    "              metrics=['acc'])"
   ]
  },
  {
   "cell_type": "code",
   "execution_count": 11,
   "metadata": {},
   "outputs": [],
   "source": [
    "x_val = train_data[:10000]\n",
    "partial_x_train = train_data[10000:]\n",
    "\n",
    "y_val = train_labels[:10000]\n",
    "partial_y_train = train_labels[10000:]"
   ]
  },
  {
   "cell_type": "code",
   "execution_count": 12,
   "metadata": {},
   "outputs": [
    {
     "name": "stdout",
     "output_type": "stream",
     "text": [
      "Train on 15000 samples, validate on 10000 samples\n",
      "WARNING:tensorflow:From /home/vaibhav/anaconda3/envs/spinningup/lib/python3.6/site-packages/tensorflow/python/ops/math_ops.py:3066: to_int32 (from tensorflow.python.ops.math_ops) is deprecated and will be removed in a future version.\n",
      "Instructions for updating:\n",
      "Use tf.cast instead.\n",
      "Epoch 1/50\n",
      "15000/15000 [==============================] - 1s 90us/sample - loss: 0.6918 - acc: 0.5829 - val_loss: 0.6896 - val_acc: 0.6678\n",
      "Epoch 2/50\n",
      "15000/15000 [==============================] - 1s 55us/sample - loss: 0.6851 - acc: 0.7299 - val_loss: 0.6799 - val_acc: 0.7437\n",
      "Epoch 3/50\n",
      "15000/15000 [==============================] - 1s 57us/sample - loss: 0.6697 - acc: 0.7567 - val_loss: 0.6604 - val_acc: 0.7588\n",
      "Epoch 4/50\n",
      "15000/15000 [==============================] - 1s 52us/sample - loss: 0.6426 - acc: 0.7669 - val_loss: 0.6297 - val_acc: 0.7612\n",
      "Epoch 5/50\n",
      "15000/15000 [==============================] - 1s 53us/sample - loss: 0.6039 - acc: 0.7948 - val_loss: 0.5901 - val_acc: 0.7889\n",
      "Epoch 6/50\n",
      "15000/15000 [==============================] - 1s 52us/sample - loss: 0.5570 - acc: 0.8163 - val_loss: 0.5462 - val_acc: 0.8100\n",
      "Epoch 7/50\n",
      "15000/15000 [==============================] - 1s 53us/sample - loss: 0.5069 - acc: 0.8335 - val_loss: 0.5002 - val_acc: 0.8257\n",
      "Epoch 8/50\n",
      "15000/15000 [==============================] - 1s 56us/sample - loss: 0.4586 - acc: 0.8519 - val_loss: 0.4594 - val_acc: 0.8369\n",
      "Epoch 9/50\n",
      "15000/15000 [==============================] - 1s 55us/sample - loss: 0.4153 - acc: 0.8662 - val_loss: 0.4240 - val_acc: 0.8477\n",
      "Epoch 10/50\n",
      "15000/15000 [==============================] - 1s 56us/sample - loss: 0.3776 - acc: 0.8765 - val_loss: 0.3951 - val_acc: 0.8539\n",
      "Epoch 11/50\n",
      "15000/15000 [==============================] - 1s 53us/sample - loss: 0.3460 - acc: 0.8866 - val_loss: 0.3717 - val_acc: 0.8622\n",
      "Epoch 12/50\n",
      "15000/15000 [==============================] - 1s 54us/sample - loss: 0.3194 - acc: 0.8925 - val_loss: 0.3537 - val_acc: 0.8663\n",
      "Epoch 13/50\n",
      "15000/15000 [==============================] - 1s 53us/sample - loss: 0.2978 - acc: 0.8994 - val_loss: 0.3383 - val_acc: 0.8709\n",
      "Epoch 14/50\n",
      "15000/15000 [==============================] - 1s 56us/sample - loss: 0.2783 - acc: 0.9043 - val_loss: 0.3270 - val_acc: 0.8751\n",
      "Epoch 15/50\n",
      "15000/15000 [==============================] - 1s 53us/sample - loss: 0.2620 - acc: 0.9093 - val_loss: 0.3180 - val_acc: 0.8765\n",
      "Epoch 16/50\n",
      "15000/15000 [==============================] - 1s 53us/sample - loss: 0.2473 - acc: 0.9153 - val_loss: 0.3104 - val_acc: 0.8762\n",
      "Epoch 17/50\n",
      "15000/15000 [==============================] - 1s 53us/sample - loss: 0.2337 - acc: 0.9197 - val_loss: 0.3042 - val_acc: 0.8801\n",
      "Epoch 18/50\n",
      "15000/15000 [==============================] - 1s 53us/sample - loss: 0.2216 - acc: 0.9234 - val_loss: 0.2993 - val_acc: 0.8816\n",
      "Epoch 19/50\n",
      "15000/15000 [==============================] - 1s 54us/sample - loss: 0.2107 - acc: 0.9261 - val_loss: 0.2948 - val_acc: 0.8822\n",
      "Epoch 20/50\n",
      "15000/15000 [==============================] - 1s 54us/sample - loss: 0.2009 - acc: 0.9301 - val_loss: 0.2919 - val_acc: 0.8833\n",
      "Epoch 21/50\n",
      "15000/15000 [==============================] - 1s 55us/sample - loss: 0.1907 - acc: 0.9361 - val_loss: 0.2895 - val_acc: 0.8835\n",
      "Epoch 22/50\n",
      "15000/15000 [==============================] - 1s 54us/sample - loss: 0.1823 - acc: 0.9396 - val_loss: 0.2878 - val_acc: 0.8849\n",
      "Epoch 23/50\n",
      "15000/15000 [==============================] - 1s 54us/sample - loss: 0.1738 - acc: 0.9439 - val_loss: 0.2875 - val_acc: 0.8841\n",
      "Epoch 24/50\n",
      "15000/15000 [==============================] - 1s 54us/sample - loss: 0.1665 - acc: 0.9471 - val_loss: 0.2863 - val_acc: 0.8853\n",
      "Epoch 25/50\n",
      "15000/15000 [==============================] - 1s 55us/sample - loss: 0.1589 - acc: 0.9499 - val_loss: 0.2857 - val_acc: 0.8856\n",
      "Epoch 26/50\n",
      "15000/15000 [==============================] - 1s 54us/sample - loss: 0.1522 - acc: 0.9523 - val_loss: 0.2869 - val_acc: 0.8829\n",
      "Epoch 27/50\n",
      "15000/15000 [==============================] - 1s 55us/sample - loss: 0.1459 - acc: 0.9553 - val_loss: 0.2869 - val_acc: 0.8844\n",
      "Epoch 28/50\n",
      "15000/15000 [==============================] - 1s 55us/sample - loss: 0.1399 - acc: 0.9571 - val_loss: 0.2879 - val_acc: 0.8847\n",
      "Epoch 29/50\n",
      "15000/15000 [==============================] - 1s 56us/sample - loss: 0.1345 - acc: 0.9605 - val_loss: 0.2902 - val_acc: 0.8840\n",
      "Epoch 30/50\n",
      "15000/15000 [==============================] - 1s 56us/sample - loss: 0.1288 - acc: 0.9617 - val_loss: 0.2901 - val_acc: 0.8848\n",
      "Epoch 31/50\n",
      "15000/15000 [==============================] - 1s 56us/sample - loss: 0.1232 - acc: 0.9642 - val_loss: 0.2918 - val_acc: 0.8848\n",
      "Epoch 32/50\n",
      "15000/15000 [==============================] - 1s 55us/sample - loss: 0.1182 - acc: 0.9677 - val_loss: 0.2938 - val_acc: 0.8854\n",
      "Epoch 33/50\n",
      "15000/15000 [==============================] - 1s 56us/sample - loss: 0.1134 - acc: 0.9681 - val_loss: 0.2966 - val_acc: 0.8841\n",
      "Epoch 34/50\n",
      "15000/15000 [==============================] - 1s 52us/sample - loss: 0.1090 - acc: 0.9697 - val_loss: 0.2993 - val_acc: 0.8835\n",
      "Epoch 35/50\n",
      "15000/15000 [==============================] - 1s 53us/sample - loss: 0.1048 - acc: 0.9713 - val_loss: 0.3028 - val_acc: 0.8835\n",
      "Epoch 36/50\n",
      "15000/15000 [==============================] - 1s 52us/sample - loss: 0.1006 - acc: 0.9733 - val_loss: 0.3048 - val_acc: 0.8837\n",
      "Epoch 37/50\n",
      "15000/15000 [==============================] - 1s 51us/sample - loss: 0.0964 - acc: 0.9746 - val_loss: 0.3079 - val_acc: 0.8820\n",
      "Epoch 38/50\n",
      "15000/15000 [==============================] - 1s 52us/sample - loss: 0.0926 - acc: 0.9763 - val_loss: 0.3121 - val_acc: 0.8815\n",
      "Epoch 39/50\n",
      "15000/15000 [==============================] - 1s 52us/sample - loss: 0.0895 - acc: 0.9772 - val_loss: 0.3165 - val_acc: 0.8814\n",
      "Epoch 40/50\n",
      "15000/15000 [==============================] - 1s 52us/sample - loss: 0.0855 - acc: 0.9789 - val_loss: 0.3193 - val_acc: 0.8816\n",
      "Epoch 41/50\n",
      "15000/15000 [==============================] - 1s 52us/sample - loss: 0.0821 - acc: 0.9799 - val_loss: 0.3226 - val_acc: 0.8817\n",
      "Epoch 42/50\n",
      "15000/15000 [==============================] - 1s 52us/sample - loss: 0.0786 - acc: 0.9813 - val_loss: 0.3264 - val_acc: 0.8799\n",
      "Epoch 43/50\n",
      "15000/15000 [==============================] - 1s 53us/sample - loss: 0.0757 - acc: 0.9825 - val_loss: 0.3305 - val_acc: 0.8809\n",
      "Epoch 44/50\n",
      "15000/15000 [==============================] - 1s 52us/sample - loss: 0.0728 - acc: 0.9840 - val_loss: 0.3348 - val_acc: 0.8793\n",
      "Epoch 45/50\n",
      "15000/15000 [==============================] - 1s 52us/sample - loss: 0.0700 - acc: 0.9845 - val_loss: 0.3393 - val_acc: 0.8794\n",
      "Epoch 46/50\n",
      "15000/15000 [==============================] - 1s 52us/sample - loss: 0.0671 - acc: 0.9857 - val_loss: 0.3467 - val_acc: 0.8763\n",
      "Epoch 47/50\n",
      "15000/15000 [==============================] - 1s 52us/sample - loss: 0.0648 - acc: 0.9867 - val_loss: 0.3487 - val_acc: 0.8777\n",
      "Epoch 48/50\n",
      "15000/15000 [==============================] - 1s 53us/sample - loss: 0.0620 - acc: 0.9873 - val_loss: 0.3525 - val_acc: 0.8781\n",
      "Epoch 49/50\n",
      "15000/15000 [==============================] - 1s 52us/sample - loss: 0.0598 - acc: 0.9883 - val_loss: 0.3578 - val_acc: 0.8777\n",
      "Epoch 50/50\n",
      "15000/15000 [==============================] - 1s 52us/sample - loss: 0.0570 - acc: 0.9891 - val_loss: 0.3623 - val_acc: 0.8776\n"
     ]
    }
   ],
   "source": [
    "history = model.fit(partial_x_train, \n",
    "                    partial_y_train,\n",
    "                    epochs=50,\n",
    "                    batch_size=512,\n",
    "                    validation_data=(x_val, y_val),\n",
    "                    verbose=1)"
   ]
  },
  {
   "cell_type": "code",
   "execution_count": 15,
   "metadata": {},
   "outputs": [
    {
     "data": {
      "image/png": "[encoded data removed]",
      "text/plain": [
       "<Figure size 432x288 with 2 Axes>"
      ]
     },
     "metadata": {
      "needs_background": "light"
     },
     "output_type": "display_data"
    }
   ],
   "source": [
    "plt.figure()\n",
    "\n",
    "plt.subplot(121)\n",
    "plt.plot( range(50), history.history['loss'], 'b--', label='Training Loss' )\n",
    "plt.plot( range(50), history.history['val_loss'], 'g', label='Validation Loss' )\n",
    "plt.title('Loss Plot')\n",
    "plt.legend()\n",
    "\n",
    "plt.subplot(122)\n",
    "plt.plot( range(50), history.history['acc'], 'b--', label='Training Accuracy' )\n",
    "plt.plot( range(50), history.history['val_acc'], 'g', label='Validation Accuracy' )\n",
    "plt.title('Accuracy Plot')\n",
    "plt.legend()\n",
    "\n",
    "plt.show()"
   ]
  },
  {
   "cell_type": "code",
   "execution_count": 16,
   "metadata": {},
   "outputs": [
    {
     "name": "stdout",
     "output_type": "stream",
     "text": [
      "25000/25000 [==============================] - 1s 30us/sample - loss: 0.3863 - acc: 0.8658\n"
     ]
    },
    {
     "data": {
      "text/plain": [
       "[0.38634965842723845, 0.8658]"
      ]
     },
     "execution_count": 16,
     "metadata": {},
     "output_type": "execute_result"
    }
   ],
   "source": [
    "model.evaluate(test_data, test_labels)"
   ]
  },
  {
   "cell_type": "code",
   "execution_count": 17,
   "metadata": {},
   "outputs": [
    {
     "name": "stdout",
     "output_type": "stream",
     "text": [
      "_________________________________________________________________\n",
      "Layer (type)                 Output Shape              Param #   \n",
      "=================================================================\n",
      "embedding_1 (Embedding)      (None, None, 16)          160000    \n",
      "_________________________________________________________________\n",
      "global_average_pooling1d_1 ( (None, 16)                0         \n",
      "_________________________________________________________________\n",
      "dense_2 (Dense)              (None, 16)                272       \n",
      "_________________________________________________________________\n",
      "dense_3 (Dense)              (None, 1)                 17        \n",
      "=================================================================\n",
      "Total params: 160,289\n",
      "Trainable params: 160,289\n",
      "Non-trainable params: 0\n",
      "_________________________________________________________________\n"
     ]
    }
   ],
   "source": [
    "vocab_size = 10000\n",
    "\n",
    "model = keras.models.Sequential()\n",
    "model.add( keras.layers.Embedding(vocab_size, 16) )\n",
    "model.add( keras.layers.GlobalAveragePooling1D() )\n",
    "model.add( keras.layers.Dense(16, activation=tf.nn.relu) )\n",
    "model.add( keras.layers.Dense(1, activation=tf.nn.sigmoid) )\n",
    "\n",
    "model.summary()"
   ]
  },
  {
   "cell_type": "code",
   "execution_count": 20,
   "metadata": {},
   "outputs": [],
   "source": [
    "model.compile(optimizer='adam',\n",
    "              loss='binary_crossentropy',\n",
    "              metrics=['acc'])"
   ]
  },
  {
   "cell_type": "code",
   "execution_count": 21,
   "metadata": {},
   "outputs": [
    {
     "name": "stdout",
     "output_type": "stream",
     "text": [
      "Epoch 1/20\n",
      "25000/25000 [==============================] - 1s 56us/sample - loss: 0.6909 - acc: 0.6285\n",
      "Epoch 2/20\n",
      "25000/25000 [==============================] - 1s 46us/sample - loss: 0.6774 - acc: 0.7238\n",
      "Epoch 3/20\n",
      "25000/25000 [==============================] - 1s 47us/sample - loss: 0.6435 - acc: 0.7662\n",
      "Epoch 4/20\n",
      "25000/25000 [==============================] - 1s 45us/sample - loss: 0.5863 - acc: 0.7989\n",
      "Epoch 5/20\n",
      "25000/25000 [==============================] - 1s 46us/sample - loss: 0.5157 - acc: 0.8319\n",
      "Epoch 6/20\n",
      "25000/25000 [==============================] - 1s 45us/sample - loss: 0.4479 - acc: 0.8544\n",
      "Epoch 7/20\n",
      "25000/25000 [==============================] - 1s 45us/sample - loss: 0.3926 - acc: 0.8703\n",
      "Epoch 8/20\n",
      "25000/25000 [==============================] - 1s 47us/sample - loss: 0.3499 - acc: 0.8820\n",
      "Epoch 9/20\n",
      "25000/25000 [==============================] - 1s 46us/sample - loss: 0.3176 - acc: 0.8899\n",
      "Epoch 10/20\n",
      "25000/25000 [==============================] - 1s 46us/sample - loss: 0.2929 - acc: 0.8976\n",
      "Epoch 11/20\n",
      "25000/25000 [==============================] - 1s 46us/sample - loss: 0.2723 - acc: 0.9022\n",
      "Epoch 12/20\n",
      "25000/25000 [==============================] - 1s 46us/sample - loss: 0.2555 - acc: 0.9088\n",
      "Epoch 13/20\n",
      "25000/25000 [==============================] - 1s 47us/sample - loss: 0.2407 - acc: 0.9141\n",
      "Epoch 14/20\n",
      "25000/25000 [==============================] - 1s 47us/sample - loss: 0.2281 - acc: 0.9184\n",
      "Epoch 15/20\n",
      "25000/25000 [==============================] - 1s 48us/sample - loss: 0.2168 - acc: 0.9225\n",
      "Epoch 16/20\n",
      "25000/25000 [==============================] - 1s 46us/sample - loss: 0.2060 - acc: 0.9272\n",
      "Epoch 17/20\n",
      "25000/25000 [==============================] - 1s 47us/sample - loss: 0.1966 - acc: 0.9298\n",
      "Epoch 18/20\n",
      "25000/25000 [==============================] - 1s 48us/sample - loss: 0.1884 - acc: 0.9336\n",
      "Epoch 19/20\n",
      "25000/25000 [==============================] - 1s 46us/sample - loss: 0.1800 - acc: 0.9360\n",
      "Epoch 20/20\n",
      "25000/25000 [==============================] - 1s 46us/sample - loss: 0.1726 - acc: 0.9390\n"
     ]
    },
    {
     "data": {
      "text/plain": [
       "<tensorflow.python.keras.callbacks.History at 0x7f8cd4197898>"
      ]
     },
     "execution_count": 21,
     "metadata": {},
     "output_type": "execute_result"
    }
   ],
   "source": [
    "model.fit(train_data,\n",
    "          train_labels,\n",
    "          epochs=20,\n",
    "          batch_size=512,\n",
    "          verbose=1)"
   ]
  },
  {
   "cell_type": "code",
   "execution_count": 22,
   "metadata": {},
   "outputs": [
    {
     "name": "stdout",
     "output_type": "stream",
     "text": [
      "25000/25000 [==============================] - 1s 34us/sample - loss: 0.2878 - acc: 0.8824\n"
     ]
    },
    {
     "data": {
      "text/plain": [
       "[0.28775013946056366, 0.8824]"
      ]
     },
     "execution_count": 22,
     "metadata": {},
     "output_type": "execute_result"
    }
   ],
   "source": [
    "model.evaluate(test_data, test_labels)"
   ]
  },
  {
   "cell_type": "code",
   "execution_count": null,
   "metadata": {},
   "outputs": [],
   "source": []
  }
 ],
 "metadata": {
  "kernelspec": {
   "display_name": "Python 3",
   "language": "python",
   "name": "python3"
  },
  "language_info": {
   "codemirror_mode": {
    "name": "ipython",
    "version": 3
   },
   "file_extension": ".py",
   "mimetype": "text/x-python",
   "name": "python",
   "nbconvert_exporter": "python",
   "pygments_lexer": "ipython3",
   "version": "3.6.8"
  }
 },
 "nbformat": 4,
 "nbformat_minor": 2
}
